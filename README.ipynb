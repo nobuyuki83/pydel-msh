{
 "cells": [
  {
   "cell_type": "markdown",
   "id": "1abdefe3",
   "metadata": {},
   "source": [
    "# del-msh\n",
    "\n",
    "Python static 3D mesh utility library for prototyping in computer graphics research."
   ]
  },
  {
   "cell_type": "code",
   "execution_count": 1,
   "id": "96f0b116",
   "metadata": {},
   "outputs": [
    {
     "name": "stdout",
     "output_type": "stream",
     "text": [
      "<class 'numpy.ndarray'> <class 'numpy.ndarray'> (994, 3) (1984, 3)\n"
     ]
    }
   ],
   "source": [
    "import del_msh\n",
    "\n",
    "# generate primitive mesh\n",
    "V,F = del_msh.torus_meshtri3(0.6, 0.3, 32, 32) # torus\n",
    "V,F = del_msh.capsule_meshtri3(0.1, 0.6, 32, 32, 32) # capsule\n",
    "V,F = del_msh.cylinder_closed_end_meshtri3(0.1, 0.8, 32, 32) # cylinder\n",
    "V,F = del_msh.sphere_meshtri3(1., 32, 32) # sphere\n",
    "print(type(V),type(F), V.shape, F.shape)"
   ]
  }
 ],
 "metadata": {
  "kernelspec": {
   "display_name": "Python 3 (ipykernel)",
   "language": "python",
   "name": "python3"
  },
  "language_info": {
   "codemirror_mode": {
    "name": "ipython",
    "version": 3
   },
   "file_extension": ".py",
   "mimetype": "text/x-python",
   "name": "python",
   "nbconvert_exporter": "python",
   "pygments_lexer": "ipython3",
   "version": "3.9.13"
  }
 },
 "nbformat": 4,
 "nbformat_minor": 5
}
